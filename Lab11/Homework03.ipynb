{
  "nbformat": 4,
  "nbformat_minor": 0,
  "metadata": {
    "colab": {
      "provenance": []
    },
    "kernelspec": {
      "name": "python3",
      "display_name": "Python 3"
    },
    "language_info": {
      "name": "python"
    }
  },
  "cells": [
    {
      "cell_type": "code",
      "source": [
        "# Part I\n",
        "def buildTable(X, Y, match=1, mismatch=-1, gap=-1):\n",
        "  print(\"Sequence 1:\", X)\n",
        "  print(\"Sequence 2:\", Y)\n",
        "  #### Note 1: create table of zeros with dimension (1+|X|)-by-(1+|Y|)\n",
        "  # X: vertical,  Y:horizontal\n",
        "  opt = []\n",
        "  for i in range(1+len(X)):\n",
        "    row = []\n",
        "    for j in range(1+len(Y)):\n",
        "      row.append(0)\n",
        "    opt.append(row)\n",
        "  print('The initial alignment table is:')\n",
        "  for i in range(len(opt)):\n",
        "    print(opt[i])\n",
        "  #### Note 2: Use Lab08 codes to initialize the alignment table.   Please write your codes here!\n",
        "  for i in range(len(opt)):\n",
        "    opt[i][0] = gap*i\n",
        "  #### Note 3: Use Lab08 codes to initialize the first row and first column.   Please write your codes here!\n",
        "  for i in range(len(opt[0])):\n",
        "    opt[0][i] = gap*i\n",
        "  #### Note 4: How to calculate the optimal score in each cell? left-to-right? top-to-bottom? diagonal?  Please write your codes here!\n",
        "  for i in range(1, len(opt)):\n",
        "    for j in range(1, len(opt[0])):\n",
        "      if X[i-1] == Y[j-1]:\n",
        "        score_list = [opt[i-1][j]+gap, opt[i][j-1]+gap, opt[i-1][j-1]+match]\n",
        "      else:\n",
        "        score_list = [opt[i-1][j]+gap, opt[i][j-1]+gap, opt[i-1][j-1]+mismatch]\n",
        "      opt[i][j] = max(score_list)\n",
        "  #### return the final table\n",
        "  print('Final alignment table:')\n",
        "  for i in range(len(opt)):\n",
        "    print(opt[i])\n",
        "  return opt\n",
        "buildTable('CACCT','AACT',match=2, mismatch=-1, gap=-1)"
      ],
      "metadata": {
        "id": "ayeRpI1a6efZ",
        "colab": {
          "base_uri": "https://localhost:8080/"
        },
        "outputId": "0bc82a85-d1c5-47a3-e7cc-178a59198146"
      },
      "execution_count": 11,
      "outputs": [
        {
          "output_type": "stream",
          "name": "stdout",
          "text": [
            "Sequence 1: CACCT\n",
            "Sequence 2: AACT\n",
            "The initial alignment table is:\n",
            "[0, 0, 0, 0, 0]\n",
            "[0, 0, 0, 0, 0]\n",
            "[0, 0, 0, 0, 0]\n",
            "[0, 0, 0, 0, 0]\n",
            "[0, 0, 0, 0, 0]\n",
            "[0, 0, 0, 0, 0]\n",
            "Final alignment table:\n",
            "[0, -1, -2, -3, -4]\n",
            "[-1, -1, -2, 0, -1]\n",
            "[-2, 1, 1, 0, -1]\n",
            "[-3, 0, 0, 3, 2]\n",
            "[-4, -1, -1, 2, 2]\n",
            "[-5, -2, -2, 1, 4]\n"
          ]
        },
        {
          "output_type": "execute_result",
          "data": {
            "text/plain": [
              "[[0, -1, -2, -3, -4],\n",
              " [-1, -1, -2, 0, -1],\n",
              " [-2, 1, 1, 0, -1],\n",
              " [-3, 0, 0, 3, 2],\n",
              " [-4, -1, -1, 2, 2],\n",
              " [-5, -2, -2, 1, 4]]"
            ]
          },
          "metadata": {},
          "execution_count": 11
        }
      ]
    },
    {
      "cell_type": "code",
      "source": [
        "# Part II\n",
        "def TraceBack(X, Y, table, match=1, mismatch=-1, gap=-1):\n",
        "    first = ''        # alignment for X\n",
        "    second = ''       # alignment for Y\n",
        "    glue = ''         # line showing matches/mismatches\n",
        "    # start reconstruction at bottom-right of table\n",
        "    j = len(X)\n",
        "    k = len(Y)\n",
        "\n",
        "    while j>0 or k>0:\n",
        "        #### \n",
        "        ##   This block checks if the best score at cell j,k is derived from the top-left cell with diagonal direction\n",
        "        ###########################################################################################################\n",
        "        if j>0 and k>0 and ((X[j-1] == Y[k-1] and table[j][k] == table[j-1][k-1] + match) or (X[j-1] != Y[k-1] and table[j][k] == table[j-1][k-1] + mismatch)):\n",
        "            # option1 above; match X[j-1] with Y[k-1]\n",
        "            first =  X[j-1] + first\n",
        "            second = Y[k-1] + second\n",
        "            if X[j-1] == Y[k-1] and table[j][k] == table[j-1][k-1] + match:\n",
        "              glue = '|' + glue   # designate match\n",
        "            elif X[j-1] != Y[k-1] and table[j][k] == table[j-1][k-1] + mismatch:\n",
        "              glue = '.' + glue   # designate mismatch\n",
        "            j = j-1\n",
        "            k = k-1\n",
        "        \n",
        "        #### \n",
        "        ##   This block checks if the best score at cell j,k is derived from the top cell with vertical direction\n",
        "        ###########################################################################################################\n",
        "        elif j > 0 and table[j][k] == table[j-1][k] + gap:\n",
        "            # option1 above; match X[j-1] with a gap in Y\n",
        "            first  = X[j-1] + first\n",
        "            second = '-' + second\n",
        "            glue   = ' ' + glue\n",
        "            j = j-1\n",
        "\n",
        "        ####\n",
        "        ##   This block checks if the best score at cell j,k is derived from the left cell with horizontal direction\n",
        "        ###########################################################################################################\n",
        "        elif k > 0 and table[j][k] == table[j][k-1] + gap:\n",
        "            # option2 above; match gap in X with Y[k-1]\n",
        "            first  = '-'  + first\n",
        "            second = Y[k-1] + second\n",
        "            glue   = ' '  + glue\n",
        "            k = k-1\n",
        "\n",
        "    print(\"The best alignment is:\")\n",
        "    print(first)\n",
        "    print(glue)\n",
        "    print(second)\n",
        "    print(\"The score of optimal alignment is: \",table[len(X)][len(Y)])\n",
        "    return first,glue,second\n",
        "table = buildTable('CACCT','AACT', match=2, mismatch=-1, gap=-1)\n",
        "TraceBack('CACCT','AACT', table, match=2, mismatch=-1, gap=-1)"
      ],
      "metadata": {
        "colab": {
          "base_uri": "https://localhost:8080/"
        },
        "id": "5YiaUWvQJEeM",
        "outputId": "cdca3180-8799-4fb3-98fc-4d67d93266ba"
      },
      "execution_count": 12,
      "outputs": [
        {
          "output_type": "stream",
          "name": "stdout",
          "text": [
            "Sequence 1: CACCT\n",
            "Sequence 2: AACT\n",
            "The initial alignment table is:\n",
            "[0, 0, 0, 0, 0]\n",
            "[0, 0, 0, 0, 0]\n",
            "[0, 0, 0, 0, 0]\n",
            "[0, 0, 0, 0, 0]\n",
            "[0, 0, 0, 0, 0]\n",
            "[0, 0, 0, 0, 0]\n",
            "Final alignment table:\n",
            "[0, -1, -2, -3, -4]\n",
            "[-1, -1, -2, 0, -1]\n",
            "[-2, 1, 1, 0, -1]\n",
            "[-3, 0, 0, 3, 2]\n",
            "[-4, -1, -1, 2, 2]\n",
            "[-5, -2, -2, 1, 4]\n",
            "The best alignment is:\n",
            "CACCT\n",
            " |.||\n",
            "-AACT\n",
            "The score of optimal alignment is:  4\n"
          ]
        },
        {
          "output_type": "execute_result",
          "data": {
            "text/plain": [
              "('CACCT', ' |.||', '-AACT')"
            ]
          },
          "metadata": {},
          "execution_count": 12
        }
      ]
    },
    {
      "cell_type": "code",
      "source": [
        "table = buildTable('TTGCT','CTTCCT')\n",
        "TraceBack('TTGCT','CTTCCT', table)"
      ],
      "metadata": {
        "colab": {
          "base_uri": "https://localhost:8080/"
        },
        "id": "Yp8UyNqhrdUh",
        "outputId": "7f093637-92f3-4106-e6c7-ae2d12f25370"
      },
      "execution_count": 13,
      "outputs": [
        {
          "output_type": "stream",
          "name": "stdout",
          "text": [
            "Sequence 1: TTGCT\n",
            "Sequence 2: CTTCCT\n",
            "The initial alignment table is:\n",
            "[0, 0, 0, 0, 0, 0, 0]\n",
            "[0, 0, 0, 0, 0, 0, 0]\n",
            "[0, 0, 0, 0, 0, 0, 0]\n",
            "[0, 0, 0, 0, 0, 0, 0]\n",
            "[0, 0, 0, 0, 0, 0, 0]\n",
            "[0, 0, 0, 0, 0, 0, 0]\n",
            "Final alignment table:\n",
            "[0, -1, -2, -3, -4, -5, -6]\n",
            "[-1, -1, 0, -1, -2, -3, -4]\n",
            "[-2, -2, 0, 1, 0, -1, -2]\n",
            "[-3, -3, -1, 0, 0, -1, -2]\n",
            "[-4, -2, -2, -1, 1, 1, 0]\n",
            "[-5, -3, -1, -1, 0, 0, 2]\n",
            "The best alignment is:\n",
            "-TTGCT\n",
            " ||.||\n",
            "CTTCCT\n",
            "The score of optimal alignment is:  2\n"
          ]
        },
        {
          "output_type": "execute_result",
          "data": {
            "text/plain": [
              "('-TTGCT', ' ||.||', 'CTTCCT')"
            ]
          },
          "metadata": {},
          "execution_count": 13
        }
      ]
    },
    {
      "cell_type": "code",
      "source": [
        "table = buildTable('TCTAGCCCTT','CATATCCCT')\n",
        "TraceBack('TCTAGCCCTT','CATATCCCT', table)"
      ],
      "metadata": {
        "colab": {
          "base_uri": "https://localhost:8080/"
        },
        "id": "GCJFtUeirgej",
        "outputId": "d4256ac4-91e0-4274-dc00-83e2bc70f48f"
      },
      "execution_count": 14,
      "outputs": [
        {
          "output_type": "stream",
          "name": "stdout",
          "text": [
            "Sequence 1: TCTAGCCCTT\n",
            "Sequence 2: CATATCCCT\n",
            "The initial alignment table is:\n",
            "[0, 0, 0, 0, 0, 0, 0, 0, 0, 0]\n",
            "[0, 0, 0, 0, 0, 0, 0, 0, 0, 0]\n",
            "[0, 0, 0, 0, 0, 0, 0, 0, 0, 0]\n",
            "[0, 0, 0, 0, 0, 0, 0, 0, 0, 0]\n",
            "[0, 0, 0, 0, 0, 0, 0, 0, 0, 0]\n",
            "[0, 0, 0, 0, 0, 0, 0, 0, 0, 0]\n",
            "[0, 0, 0, 0, 0, 0, 0, 0, 0, 0]\n",
            "[0, 0, 0, 0, 0, 0, 0, 0, 0, 0]\n",
            "[0, 0, 0, 0, 0, 0, 0, 0, 0, 0]\n",
            "[0, 0, 0, 0, 0, 0, 0, 0, 0, 0]\n",
            "[0, 0, 0, 0, 0, 0, 0, 0, 0, 0]\n",
            "Final alignment table:\n",
            "[0, -1, -2, -3, -4, -5, -6, -7, -8, -9]\n",
            "[-1, -1, -2, -1, -2, -3, -4, -5, -6, -7]\n",
            "[-2, 0, -1, -2, -2, -3, -2, -3, -4, -5]\n",
            "[-3, -1, -1, 0, -1, -1, -2, -3, -4, -3]\n",
            "[-4, -2, 0, -1, 1, 0, -1, -2, -3, -4]\n",
            "[-5, -3, -1, -1, 0, 0, -1, -2, -3, -4]\n",
            "[-6, -4, -2, -2, -1, -1, 1, 0, -1, -2]\n",
            "[-7, -5, -3, -3, -2, -2, 0, 2, 1, 0]\n",
            "[-8, -6, -4, -4, -3, -3, -1, 1, 3, 2]\n",
            "[-9, -7, -5, -3, -4, -2, -2, 0, 2, 4]\n",
            "[-10, -8, -6, -4, -4, -3, -3, -1, 1, 3]\n",
            "The best alignment is:\n",
            "TC-TAGCCCTT\n",
            " | ||.||| |\n",
            "-CATATCCC-T\n",
            "The score of optimal alignment is:  3\n"
          ]
        },
        {
          "output_type": "execute_result",
          "data": {
            "text/plain": [
              "('TC-TAGCCCTT', ' | ||.||| |', '-CATATCCC-T')"
            ]
          },
          "metadata": {},
          "execution_count": 14
        }
      ]
    }
  ]
}